{
 "cells": [
  {
   "cell_type": "markdown",
   "id": "bf50d2c3-b3f3-4dd0-bd75-dec536b95d93",
   "metadata": {},
   "source": [
    "You can create a program in Python that converts audio into text using speech recognition. Here's how to do it:\n",
    "\n",
    "    Install the necessary libraries:\n",
    "        Install the speechrecognition library for recognizing speech.\n",
    "        Install pyaudio to capture microphone input (if you want to use real-time audio input)."
   ]
  },
  {
   "cell_type": "code",
   "execution_count": 50,
   "id": "7283ab83-0f9c-4660-ade5-5010f320de30",
   "metadata": {},
   "outputs": [
    {
     "name": "stdout",
     "output_type": "stream",
     "text": [
      "Please say something...\n",
      "Google Speech Recognition thinks you said:\n",
      "python\n"
     ]
    }
   ],
   "source": [
    "import speech_recognition as sr\n",
    "\n",
    "# Initialize recognizer\n",
    "recognizer = sr.Recognizer()\n",
    "\n",
    "# Capture audio from the microphone\n",
    "with sr.Microphone() as source:\n",
    "    print(\"Please say something...\")\n",
    "    recognizer.adjust_for_ambient_noise(source)\n",
    "    audio = recognizer.listen(source)\n",
    "\n",
    "# Use Google Web Speech API to recognize the audio\n",
    "try:\n",
    "    print(\"Google Speech Recognition thinks you said:\")\n",
    "    text = recognizer.recognize_google(audio)\n",
    "    print(text)\n",
    "except sr.UnknownValueError:\n",
    "    print(\"Google Speech Recognition could not understand the audio\")\n",
    "except sr.RequestError:\n",
    "    print(\"Could not request results from Google Speech Recognition service\")\n"
   ]
  },
  {
   "cell_type": "code",
   "execution_count": null,
   "id": "e0ddd865-0487-4bd6-8596-c72342287c13",
   "metadata": {},
   "outputs": [],
   "source": []
  },
  {
   "cell_type": "markdown",
   "id": "03e3c9f0-ed7f-4485-8f6d-766b0a61e708",
   "metadata": {},
   "source": [
    "## Audio to text"
   ]
  },
  {
   "cell_type": "code",
   "execution_count": 62,
   "id": "700ec155-e3d2-44fc-a771-18630efabacd",
   "metadata": {},
   "outputs": [
    {
     "name": "stdout",
     "output_type": "stream",
     "text": [
      "Please say something...\n",
      "Recognizing...\n",
      "Text: hello I am under the water please save me\n"
     ]
    }
   ],
   "source": [
    "import speech_recognition as sr\n",
    "\n",
    "def audio_to_text():\n",
    "    # Initialize recognizer\n",
    "    recognizer = sr.Recognizer()\n",
    "\n",
    "    # Use microphone as the source\n",
    "    with sr.Microphone() as source:\n",
    "        print(\"Please say something...\")\n",
    "        recognizer.adjust_for_ambient_noise(source)  # Adjust for ambient noise\n",
    "        audio = recognizer.listen(source)\n",
    "\n",
    "    try:\n",
    "        print(\"Recognizing...\")\n",
    "        # Use Google Web Speech API to convert audio to text\n",
    "        text = recognizer.recognize_google(audio)\n",
    "        print(f\"Text: {text}\")\n",
    "    except sr.UnknownValueError:\n",
    "        print(\"Sorry, I could not understand the audio.\")\n",
    "    except sr.RequestError:\n",
    "        print(\"Could not request results from Google Speech Recognition service.\")\n",
    "\n",
    "if __name__ == \"__main__\":\n",
    "    audio_to_text()\n"
   ]
  },
  {
   "cell_type": "markdown",
   "id": "2b398154-9bec-42e9-9274-d03655d9a25f",
   "metadata": {},
   "source": [
    "## Text to audio"
   ]
  },
  {
   "cell_type": "code",
   "execution_count": 64,
   "id": "ae35651d-9a15-4e6c-9be0-c7c6df0ae2ba",
   "metadata": {},
   "outputs": [],
   "source": [
    "import pyttsx3\n",
    "\n",
    "def text_to_speech(text):\n",
    "    # Initialize the pyttsx3 engine\n",
    "    engine = pyttsx3.init()\n",
    "\n",
    "    # Set properties (Optional, you can adjust voice rate and volume)\n",
    "    engine.setProperty('rate', 150)  # Speed of speech (higher is faster)\n",
    "    engine.setProperty('volume', 1)  # Volume level (0.0 to 1.0)\n",
    "\n",
    "    # You can change the voice (male/female)\n",
    "    voices = engine.getProperty('voices')\n",
    "    engine.setProperty('voice', voices[1].id)  # 0 for male, 1 for female voice\n",
    "\n",
    "    # Convert text to speech\n",
    "    engine.say(text)\n",
    "\n",
    "    # Wait until speech is finished\n",
    "    engine.runAndWait()\n",
    "\n",
    "if __name__ == \"__main__\":\n",
    "    text = \"Hello, how are you today?\"\n",
    "    text_to_speech(text)\n"
   ]
  },
  {
   "cell_type": "code",
   "execution_count": null,
   "id": "638b2b72-78d8-4b1c-bdf6-d682d8e93500",
   "metadata": {},
   "outputs": [],
   "source": []
  },
  {
   "cell_type": "markdown",
   "id": "31a8f69a-4709-4d65-b769-8e4ed97c4219",
   "metadata": {},
   "source": [
    "# Speech to text -> Text to Speech"
   ]
  },
  {
   "cell_type": "code",
   "execution_count": 72,
   "id": "101adc3e-992d-49f2-abbf-3d619ab7282a",
   "metadata": {},
   "outputs": [
    {
     "name": "stdout",
     "output_type": "stream",
     "text": [
      "Please say something...\n",
      "Recognizing...\n",
      "Text: hello I am under the water please say me\n"
     ]
    }
   ],
   "source": [
    "import speech_recognition as sr\n",
    "import pyttsx3\n",
    "\n",
    "def audio_to_text():\n",
    "    # Initialize recognizer\n",
    "    recognizer = sr.Recognizer()\n",
    "\n",
    "    # Use microphone as the source\n",
    "    with sr.Microphone() as source:\n",
    "        print(\"Please say something...\")\n",
    "        recognizer.adjust_for_ambient_noise(source)  # Adjust for ambient noise\n",
    "        audio = recognizer.listen(source)\n",
    "\n",
    "    try:\n",
    "        print(\"Recognizing...\")\n",
    "        # Use Google Web Speech API to convert audio to text\n",
    "        text = recognizer.recognize_google(audio)\n",
    "        print(f\"Text: {text}\")\n",
    "        return text\n",
    "    except sr.UnknownValueError:\n",
    "        print(\"Sorry, I could not understand the audio.\")\n",
    "        return None\n",
    "    except sr.RequestError:\n",
    "        print(\"Could not request results from Google Speech Recognition service.\")\n",
    "        return None\n",
    "\n",
    "def text_to_speech(text):\n",
    "    # Initialize the TTS engine\n",
    "    engine = pyttsx3.init()\n",
    "\n",
    "    # Set properties (optional)\n",
    "    rate = engine.getProperty('rate')  # Get the current speaking rate\n",
    "    engine.setProperty('rate', rate-50)  # Adjust speed (optional)\n",
    "    volume = engine.getProperty('volume')  # Get the current volume level\n",
    "    engine.setProperty('volume', 1)  # Set volume to maximum (optional)\n",
    "    voices = engine.getProperty('voices')\n",
    "    engine.setProperty('voice', voices[0].id)  # 0 for male, 1 for female voice\n",
    "\n",
    "    # Speak the text\n",
    "    engine.say(text)\n",
    "    engine.runAndWait()\n",
    "\n",
    "if __name__ == \"__main__\":\n",
    "    # Convert audio to text\n",
    "    recognized_text = audio_to_text()\n",
    "    \n",
    "    # If recognized text is not None, convert it to speech\n",
    "    if recognized_text:\n",
    "        text_to_speech(recognized_text)\n"
   ]
  },
  {
   "cell_type": "code",
   "execution_count": null,
   "id": "01a32fad-7a2c-4abe-95a7-24fbbd7232b9",
   "metadata": {},
   "outputs": [],
   "source": []
  }
 ],
 "metadata": {
  "kernelspec": {
   "display_name": "Python 3 (ipykernel)",
   "language": "python",
   "name": "python3"
  },
  "language_info": {
   "codemirror_mode": {
    "name": "ipython",
    "version": 3
   },
   "file_extension": ".py",
   "mimetype": "text/x-python",
   "name": "python",
   "nbconvert_exporter": "python",
   "pygments_lexer": "ipython3",
   "version": "3.12.7"
  }
 },
 "nbformat": 4,
 "nbformat_minor": 5
}
